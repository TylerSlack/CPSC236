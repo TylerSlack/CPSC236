{
 "cells": [
  {
   "cell_type": "markdown",
   "metadata": {},
   "source": [
    "# File Input\n",
    "\n",
    "To submit this assignment in D2l, post the link to your notebook file on your GitHub account."
   ]
  },
  {
   "cell_type": "markdown",
   "metadata": {},
   "source": [
    "## 7.1 Pig Dice Rules\n",
    "Create a program that reads a list of rules from a file and displays them.\n",
    "\n",
    "### Console:\n",
    "```powershell\n",
    "Pig Dice Rules:\n",
    "*\tSee how many turns it takes you to get to 20.\n",
    "*\tTurn ends when player rolls a 1 or chooses to hold.\n",
    "*\tIf you roll a 1, you lose all points earned during the turn.\n",
    "*\tIf you hold, you save all points earned during the turn.\n",
    "```\n",
    "\n",
    "### Specifications:\n",
    "- Use the attached text file named `pig_dice_rules.txt` in the corresponding Directory.\n",
    "- Your program should read the text file and display it on the console.\n"
   ]
  },
  {
   "cell_type": "code",
   "execution_count": 9,
   "metadata": {},
   "outputs": [
    {
     "name": "stdout",
     "output_type": "stream",
     "text": [
      "Pig Dice Rules:\n",
      "* See how many turns it takes you to get to 20.\n",
      "* Turn ends when player rolls a 1 or chooses to hold.\n",
      "* If you roll a 1, you lose all points earned during the turn.\n",
      "* If you hold, you save all points earned during the turn.\n"
     ]
    }
   ],
   "source": [
    "def main():\n",
    "    with open(\"pig_dice_rules.txt\") as file:\n",
    "        contents = file.read()\n",
    "        print(contents)\n",
    "if __name__ == \"__main__\":\n",
    "    main()"
   ]
  },
  {
   "cell_type": "markdown",
   "metadata": {},
   "source": [
    "## 7.2 Wizard Inventory\n",
    "Create a program that keeps track of the items that a wizard can carry.\n",
    "\n",
    "### Console:\n",
    "```powershell\n",
    "The Wizard Inventroy Program\n",
    "\n",
    "COMMAND MENU\n",
    "walk - Walk down the path \n",
    "show - Show all items \n",
    "drop - Drop an item\n",
    "exit - Exit program\n",
    "\n",
    "Command: walk\n",
    "While walking down a path, you see a scroll of uncursing. \n",
    "Do you want to grab it? (y/n): y\n",
    "You picked up a scroll of uncursing.\n",
    "\n",
    "Command: walk\n",
    "While walking down a path, you see an unknown potion. \n",
    "Do you want to grab it? (y/n): y\n",
    "You can't carry any more items. Drop something first.\n",
    "\n",
    "Command: show\n",
    "1.\ta wooden staff\n",
    "2.\ta scroll of invisibility\n",
    "3.\ta crossbow\n",
    "4.\ta scroll of uncursing\n",
    "\n",
    "Command: drop Number: 3\n",
    "You dropped a crossbow.\n",
    "\n",
    "Command: exit \n",
    "Bye!\n",
    "```\n",
    "\n",
    "### Specifications:\n",
    "- Use the attached text file named `wizard_all_items.txt` that contains a list of all the items that a wizard can carry. (in the corresponding directory)\n",
    "- When the user selects the walk command, the program should read the items from the file, randomly pick one, and give the user the option to grab it.\n",
    "- Your program should create another file that stores the items that the wizard is carrying (`wizard_inventory.txt`). Make sure to update this file every time the user grabs or drops an item.\n",
    "- The wizard can only carry **four** items at a time.\n",
    "- For the drop command, display an error message if the user enters an invalid number for the item.\n",
    "\n"
   ]
  },
  {
   "cell_type": "code",
   "execution_count": 15,
   "metadata": {},
   "outputs": [
    {
     "name": "stdout",
     "output_type": "stream",
     "text": [
      "The Wizard Inventroy Program\n",
      "COMMAND MENU\n",
      " walk - Walk down the path\n",
      " show - Show all items\n",
      " drop - Drop an item\n",
      " exit - Exit program\n"
     ]
    },
    {
     "name": "stdin",
     "output_type": "stream",
     "text": [
      "Command: walk\n"
     ]
    },
    {
     "name": "stdout",
     "output_type": "stream",
     "text": [
      "While walking down a path, you see a scroll of uncursing\n",
      "\n"
     ]
    },
    {
     "name": "stdin",
     "output_type": "stream",
     "text": [
      "Do you want to grab it? (y/n) y\n",
      "Command: show\n"
     ]
    },
    {
     "name": "stdout",
     "output_type": "stream",
     "text": [
      "1.  a wooden staff\n"
     ]
    },
    {
     "name": "stdin",
     "output_type": "stream",
     "text": [
      "Command: exit\n"
     ]
    },
    {
     "name": "stdout",
     "output_type": "stream",
     "text": [
      "Bye!\n"
     ]
    }
   ],
   "source": [
    "import random\n",
    "\n",
    "def title():\n",
    "    print(\"The Wizard Inventroy Program\")\n",
    "def Command_Menu():\n",
    "    print(\"COMMAND MENU\\n\",\n",
    "          \"walk - Walk down the path\\n\",\n",
    "          \"show - Show all items\\n\",\n",
    "          \"drop - Drop an item\\n\",\n",
    "          \"exit - Exit program\")\n",
    "def walk():\n",
    "    num = random.randint(1, 9)\n",
    "    f = open(\"wizard_all_items.txt\")\n",
    "    for i in range(1, num-1):\n",
    "        line = f.readline()\n",
    "    line = f.readline()\n",
    "    f.close()\n",
    "    print(\"While walking down a path, you see \" + line)\n",
    "    ans = input(\"Do you want to grab it? (y/n)\")\n",
    "    if input == \"y\":\n",
    "        with open(\"wizard_inventory.txt\") as file:\n",
    "            totalItems = len(file.readlines())\n",
    "        if totalItems < 4:\n",
    "            file = open(\"wizard_inventory.txt\", \"w\")\n",
    "            file.write(line)\n",
    "            file.close\n",
    "        elif totalItems >= 4:\n",
    "            print(\"You can't carry any more items. Drop something first.\")\n",
    "def show():\n",
    "    with open(\"wizard_inventory.txt\") as file:\n",
    "        items = file.readlines()\n",
    "        count = 1\n",
    "        for i in items:\n",
    "            print(str(count) + \".  \" + i)\n",
    "            count += 1\n",
    "def drop():\n",
    "    num = int(input(\"Number:\"))\n",
    "    file = open(\"wizard_inventory.txt\")\n",
    "    if num > len(file.readlines()) or num <= 0:\n",
    "        file.close()\n",
    "        print(str(num) + \" is not an item in the wizards invintory.\")\n",
    "        show()\n",
    "    else:\n",
    "        items = file.readlines()\n",
    "        item = items[num-1]\n",
    "        file.close\n",
    "        file = open(\"wizard_inventory.txt\", \"w\")\n",
    "        inventory = file.readlines()\n",
    "        inventory.pop(num - 1)\n",
    "        print(item + \" has been dropped.\")\n",
    "        for i in inventory:\n",
    "            file.write(i)\n",
    "        file.close()\n",
    "def main():\n",
    "    title()\n",
    "    Command_Menu()\n",
    "    while True:\n",
    "        command = input(\"Command:\")\n",
    "        if command == \"walk\":\n",
    "            walk()\n",
    "        elif command == \"show\":\n",
    "            show()\n",
    "        elif command == \"drop\":\n",
    "            drop()\n",
    "        elif command == \"exit\":\n",
    "            break\n",
    "        else:\n",
    "            print(\"Invalad command. Try again\")\n",
    "    print(\"Bye!\")\n",
    "if __name__ == \"__main__\":\n",
    "    main()"
   ]
  },
  {
   "cell_type": "markdown",
   "metadata": {},
   "source": [
    "## 7.3 Monthly Sales\n",
    "Create a program that reads the sales for 12 months from a file and calculates the total yearly sales as well as the average monthly sales. In addition, this program should let the user edit the sales for any month.\n",
    "\n",
    "### Console:\n",
    "```powershell\n",
    "Monthly Sales program\n",
    "\n",
    "COMMAND MENU\n",
    "monthly - View monthly sales \n",
    "yearly\t- View yearly sumary \n",
    "edit\t- Edit sales for a month \n",
    "exit\t- Exit program\n",
    "\n",
    "Command: monthly \n",
    "Jan - 14317\n",
    "Feb - 3903\n",
    "Mar - 1073\n",
    "Apr - 3463\n",
    "May - 2429\n",
    "Jun - 4324\n",
    "Jul - 9762\n",
    "Aug - 15578\n",
    "Sep - 2437\n",
    "Oct - 6735\n",
    "Nov - 88\n",
    "Dec - 2497\n",
    "\n",
    "Command: yearly\n",
    "Yearly total:\t66606\n",
    "Monthly average:\t5550.5\n",
    "\n",
    "Command: edit\n",
    "Three-letter Month: Nov Sales Amount: 8854\n",
    "Sales amount for Nov was modified.\n",
    "\n",
    "Command: exit Bye!\n",
    "```\n",
    "\n",
    "### Specifications:\n",
    "- Use the attached text file named CSV file named `monthly_sales.csv` that contains the month and sales data shown above.\n",
    "- For the edit command, display an error message if the user doesn’t enter a valid three-letter abbreviation for the month.\n",
    "- When the user edits the sales amount for a month, the data should be saved to the CSV file immediately. That way, no data is lost, even if the program crashes later.\n",
    "- Round the results of the monthly average to a maximum of 2 decimal digits."
   ]
  },
  {
   "cell_type": "code",
   "execution_count": 13,
   "metadata": {},
   "outputs": [
    {
     "name": "stdout",
     "output_type": "stream",
     "text": [
      "Monthly Sales programe\n",
      "COMMAND MENU\n",
      " monthly - View monthly sales\n",
      " yearly\t- View yearly sumary\n",
      " edit\t- Edit sales for a month\n",
      " exit\t- Exit program\n"
     ]
    },
    {
     "name": "stdin",
     "output_type": "stream",
     "text": [
      "Command: edit\n",
      "Three-letter Month: Sep\n"
     ]
    },
    {
     "name": "stdout",
     "output_type": "stream",
     "text": [
      "Invalid month\n",
      "Invalid month\n",
      "Invalid month\n",
      "Invalid month\n",
      "Invalid month\n",
      "Invalid month\n",
      "Invalid month\n",
      "Invalid month\n"
     ]
    },
    {
     "name": "stdin",
     "output_type": "stream",
     "text": [
      "Sales Amount: 2000\n"
     ]
    },
    {
     "name": "stdout",
     "output_type": "stream",
     "text": [
      "Sales amount for Sep was modified.\n"
     ]
    },
    {
     "ename": "PermissionError",
     "evalue": "[Errno 13] Permission denied: 'monthly_sales.csv'",
     "output_type": "error",
     "traceback": [
      "\u001b[1;31m---------------------------------------------------------------------------\u001b[0m",
      "\u001b[1;31mPermissionError\u001b[0m                           Traceback (most recent call last)",
      "Cell \u001b[1;32mIn[13], line 60\u001b[0m\n\u001b[0;32m     57\u001b[0m     \u001b[38;5;28mprint\u001b[39m(\u001b[38;5;124m\"\u001b[39m\u001b[38;5;124mBye!\u001b[39m\u001b[38;5;124m\"\u001b[39m)\n\u001b[0;32m     59\u001b[0m \u001b[38;5;28;01mif\u001b[39;00m \u001b[38;5;18m__name__\u001b[39m \u001b[38;5;241m==\u001b[39m \u001b[38;5;124m\"\u001b[39m\u001b[38;5;124m__main__\u001b[39m\u001b[38;5;124m\"\u001b[39m:\n\u001b[1;32m---> 60\u001b[0m     main()\n",
      "Cell \u001b[1;32mIn[13], line 52\u001b[0m, in \u001b[0;36mmain\u001b[1;34m()\u001b[0m\n\u001b[0;32m     50\u001b[0m     yearly()\n\u001b[0;32m     51\u001b[0m \u001b[38;5;28;01melif\u001b[39;00m command \u001b[38;5;241m==\u001b[39m \u001b[38;5;124m\"\u001b[39m\u001b[38;5;124medit\u001b[39m\u001b[38;5;124m\"\u001b[39m:\n\u001b[1;32m---> 52\u001b[0m     edit()\n\u001b[0;32m     53\u001b[0m \u001b[38;5;28;01melif\u001b[39;00m command \u001b[38;5;241m==\u001b[39m \u001b[38;5;124m\"\u001b[39m\u001b[38;5;124mexit\u001b[39m\u001b[38;5;124m\"\u001b[39m:\n\u001b[0;32m     54\u001b[0m     \u001b[38;5;28;01mbreak\u001b[39;00m\n",
      "Cell \u001b[1;32mIn[13], line 36\u001b[0m, in \u001b[0;36medit\u001b[1;34m()\u001b[0m\n\u001b[0;32m     34\u001b[0m row[\u001b[38;5;241m1\u001b[39m] \u001b[38;5;241m=\u001b[39m num\n\u001b[0;32m     35\u001b[0m \u001b[38;5;28mprint\u001b[39m(\u001b[38;5;124m\"\u001b[39m\u001b[38;5;124mSales amount for \u001b[39m\u001b[38;5;124m\"\u001b[39m \u001b[38;5;241m+\u001b[39m ans \u001b[38;5;241m+\u001b[39m \u001b[38;5;124m\"\u001b[39m\u001b[38;5;124m was modified.\u001b[39m\u001b[38;5;124m\"\u001b[39m)\n\u001b[1;32m---> 36\u001b[0m \u001b[38;5;28;01mwith\u001b[39;00m \u001b[38;5;28mopen\u001b[39m(\u001b[38;5;124m\"\u001b[39m\u001b[38;5;124mmonthly_sales.csv\u001b[39m\u001b[38;5;124m\"\u001b[39m, \u001b[38;5;124m\"\u001b[39m\u001b[38;5;124mw\u001b[39m\u001b[38;5;124m\"\u001b[39m, newline\u001b[38;5;241m=\u001b[39m\u001b[38;5;124m\"\u001b[39m\u001b[38;5;124m\"\u001b[39m) \u001b[38;5;28;01mas\u001b[39;00m file:\n\u001b[0;32m     37\u001b[0m     writer \u001b[38;5;241m=\u001b[39m csv\u001b[38;5;241m.\u001b[39mwriter(file)\n\u001b[0;32m     38\u001b[0m     writer\u001b[38;5;241m.\u001b[39mwriterows(monSales)\n",
      "File \u001b[1;32m~\\anaconda3\\Lib\\site-packages\\IPython\\core\\interactiveshell.py:324\u001b[0m, in \u001b[0;36m_modified_open\u001b[1;34m(file, *args, **kwargs)\u001b[0m\n\u001b[0;32m    317\u001b[0m \u001b[38;5;28;01mif\u001b[39;00m file \u001b[38;5;129;01min\u001b[39;00m {\u001b[38;5;241m0\u001b[39m, \u001b[38;5;241m1\u001b[39m, \u001b[38;5;241m2\u001b[39m}:\n\u001b[0;32m    318\u001b[0m     \u001b[38;5;28;01mraise\u001b[39;00m \u001b[38;5;167;01mValueError\u001b[39;00m(\n\u001b[0;32m    319\u001b[0m         \u001b[38;5;124mf\u001b[39m\u001b[38;5;124m\"\u001b[39m\u001b[38;5;124mIPython won\u001b[39m\u001b[38;5;124m'\u001b[39m\u001b[38;5;124mt let you open fd=\u001b[39m\u001b[38;5;132;01m{\u001b[39;00mfile\u001b[38;5;132;01m}\u001b[39;00m\u001b[38;5;124m by default \u001b[39m\u001b[38;5;124m\"\u001b[39m\n\u001b[0;32m    320\u001b[0m         \u001b[38;5;124m\"\u001b[39m\u001b[38;5;124mas it is likely to crash IPython. If you know what you are doing, \u001b[39m\u001b[38;5;124m\"\u001b[39m\n\u001b[0;32m    321\u001b[0m         \u001b[38;5;124m\"\u001b[39m\u001b[38;5;124myou can use builtins\u001b[39m\u001b[38;5;124m'\u001b[39m\u001b[38;5;124m open.\u001b[39m\u001b[38;5;124m\"\u001b[39m\n\u001b[0;32m    322\u001b[0m     )\n\u001b[1;32m--> 324\u001b[0m \u001b[38;5;28;01mreturn\u001b[39;00m io_open(file, \u001b[38;5;241m*\u001b[39margs, \u001b[38;5;241m*\u001b[39m\u001b[38;5;241m*\u001b[39mkwargs)\n",
      "\u001b[1;31mPermissionError\u001b[0m: [Errno 13] Permission denied: 'monthly_sales.csv'"
     ]
    }
   ],
   "source": [
    "import csv\n",
    "\n",
    "def title():\n",
    "    print(\"Monthly Sales programe\")\n",
    "def Command_Menu():\n",
    "    print(\"COMMAND MENU\\n\",\n",
    "          \"monthly - View monthly sales\\n\",\n",
    "          \"yearly\t- View yearly sumary\\n\",\n",
    "          \"edit\t- Edit sales for a month\\n\", \n",
    "          \"exit\t- Exit program\")\n",
    "def monthly():\n",
    "    with open(\"monthly_sales.csv\", newline=\"\") as file:\n",
    "        reader = csv.reader(file)\n",
    "        for row in reader:\n",
    "            print(row[0] + \" - \" + str(row[1]))\n",
    "def yearly():\n",
    "    total = 0\n",
    "    with open(\"monthly_sales.csv\", newline=\"\") as file:\n",
    "        reader = csv.reader(file)\n",
    "        for row in reader:\n",
    "            total += int(row[1])\n",
    "    print(\"Yearly total:\", total)\n",
    "    print(\"Monthly average:\", (total / 12))\n",
    "def edit():\n",
    "    monSales = []\n",
    "    with open(\"monthly_sales.csv\", newline=\"\") as file:\n",
    "        reader = csv.reader(file)\n",
    "        for row in reader:\n",
    "            monSales.append(row)\n",
    "    ans = input(\"Three-letter Month:\")\n",
    "    for row in monSales:\n",
    "        if ans == row[0]:\n",
    "            num = int(input(\"Sales Amount:\"))\n",
    "            row[1] = num\n",
    "            print(\"Sales amount for \" + ans + \" was modified.\")\n",
    "            with open(\"monthly_sales.csv\", \"w\", newline=\"\") as file:\n",
    "                writer = csv.writer(file)\n",
    "                writer.writerows(monSales)\n",
    "            break\n",
    "        else:\n",
    "            print(\"Invalid month\")\n",
    "def main():\n",
    "    title()\n",
    "    Command_Menu()\n",
    "    while True:\n",
    "        command = input(\"Command:\")\n",
    "        if command == \"monthly\":\n",
    "            monthly()\n",
    "        elif command == \"yearly\":\n",
    "            yearly()\n",
    "        elif command == \"edit\":\n",
    "            edit()\n",
    "        elif command == \"exit\":\n",
    "            break\n",
    "        else:\n",
    "            print(\"Invalad command. Try again\")\n",
    "    print(\"Bye!\")\n",
    "\n",
    "if __name__ == \"__main__\":\n",
    "    main()"
   ]
  }
 ],
 "metadata": {
  "kernelspec": {
   "display_name": "Python [conda env:base] *",
   "language": "python",
   "name": "conda-base-py"
  },
  "language_info": {
   "codemirror_mode": {
    "name": "ipython",
    "version": 3
   },
   "file_extension": ".py",
   "mimetype": "text/x-python",
   "name": "python",
   "nbconvert_exporter": "python",
   "pygments_lexer": "ipython3",
   "version": "3.12.7"
  }
 },
 "nbformat": 4,
 "nbformat_minor": 4
}
