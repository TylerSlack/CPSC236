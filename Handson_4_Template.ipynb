{
 "cells": [
  {
   "cell_type": "markdown",
   "metadata": {},
   "source": [
    "# List and Tuples\n",
    "\n",
    "To submit this assignment in D2l, post the link to your notebook file on your GitHub account."
   ]
  },
  {
   "cell_type": "markdown",
   "metadata": {},
   "source": [
    "## 6.1 Prime Number Checker\n",
    "Create a program that checks whether a number is a prime number and displays its factors if it is not a prime number.\n",
    "\n",
    "### Console:\n",
    "```powershell\n",
    "Prime Number Checker\n",
    "\n",
    "Please enter an integer between 1 and 5000: 5\n",
    "5 is a prime number.\n",
    "\n",
    "Try again? (y/n): y\n",
    "\n",
    "Please enter an integer between 1 and 5000: 6\n",
    "6 is NOT a prime number.\n",
    "It has 4 factors: 1 2 3 6\n",
    "\n",
    "Try again? (y/n): y\n",
    "\n",
    "Please enter an integer between 1 and 5000: 200\n",
    "200 is NOT a prime number.\n",
    "It has 12 factors: 1 2 4 5 8 10 20 25 40 50 100 200\n",
    "\n",
    "Try again? (y/n): n\n",
    "\n",
    "Bye!\n",
    "```\n",
    "\n",
    "### Specifications:\n",
    "- A prime number is divisible by two factors (1 and itself). For example, 7 is a prime number because it is only divisible by 1 and 7.\n",
    "- If the user enters an integer that's not between 1 and 5000, the program should display an error message.\n",
    "- If the number is a prime number, the program should display a message.\n",
    "If the number is not a prime number, the program should display a message. Then, it should display the number of factors for the number and a list of those factors.\n",
    "- Store the factors for each number in a list.\n",
    "- Use functions to organize the code for this program.\n"
   ]
  },
  {
   "cell_type": "code",
   "execution_count": 1,
   "metadata": {},
   "outputs": [
    {
     "name": "stdout",
     "output_type": "stream",
     "text": [
      "Prime Number Cheeker\n"
     ]
    },
    {
     "name": "stdin",
     "output_type": "stream",
     "text": [
      "Enter a number between 1 an 5000: 79\n"
     ]
    },
    {
     "name": "stdout",
     "output_type": "stream",
     "text": [
      "79 is a prime number\n"
     ]
    },
    {
     "name": "stdin",
     "output_type": "stream",
     "text": [
      "Again? (y/n) y\n"
     ]
    },
    {
     "name": "stdout",
     "output_type": "stream",
     "text": [
      "Prime Number Cheeker\n"
     ]
    },
    {
     "name": "stdin",
     "output_type": "stream",
     "text": [
      "Enter a number between 1 an 5000: 60\n"
     ]
    },
    {
     "name": "stdout",
     "output_type": "stream",
     "text": [
      "60 is NOT a prime number\n",
      "It has 12 factors\n",
      "[1, 2, 3, 4, 5, 6, 10, 12, 15, 20, 30, 60]\n"
     ]
    },
    {
     "name": "stdin",
     "output_type": "stream",
     "text": [
      "Again? (y/n) n\n"
     ]
    },
    {
     "name": "stdout",
     "output_type": "stream",
     "text": [
      "bye!\n"
     ]
    }
   ],
   "source": [
    "def getNum():\n",
    "    while True:\n",
    "        num = int(input(\"Enter a number between 1 an 5000:\"))\n",
    "        if num > 1 and num < 5000:\n",
    "            break\n",
    "        else:\n",
    "            print(\"Invalid integer. Please try again\")\n",
    "    return num\n",
    "def calculate_factors(num):\n",
    "    totalOfFactors = 0\n",
    "    listOfFactors = []\n",
    "    for x in range(1, num+1):\n",
    "        if num % x == 0:\n",
    "            totalOfFactors += 1\n",
    "            listOfFactors.append(x)\n",
    "    return totalOfFactors, listOfFactors\n",
    "def main():\n",
    "    while True:\n",
    "        print(\"Prime Number Cheeker\")\n",
    "        num = getNum()\n",
    "        tof, lof = calculate_factors(num)\n",
    "        if tof == 2:\n",
    "            print(num, \"is a prime number\")\n",
    "        else:\n",
    "            print(num, \"is NOT a prime number\\nIt has\", tof, \"factors\")\n",
    "            print(lof)\n",
    "        if input(\"Again? (y/n)\") == \"n\":\n",
    "            break\n",
    "    print(\"bye!\")\n",
    "if __name__ == \"__main__\":\n",
    "    main()"
   ]
  },
  {
   "cell_type": "markdown",
   "metadata": {},
   "source": [
    "## 6.2 - Contact Manager\n",
    "Create a program that a user can use to manage the primary email address and phone number for a contact.\n",
    "\n",
    "### Console\n",
    "```powershell\n",
    "Contact Manager\n",
    "\n",
    "COMMAND MENU\n",
    "list - Display all contacts\n",
    "view - View a contact\n",
    "add - Add a contact\n",
    "del - Delete a contact\n",
    "exit - Exit program\n",
    "\n",
    "Command: list\n",
    "1. Guido van Rossum\n",
    "2. Eric Idle\n",
    "\n",
    "Command: view\n",
    "Number: 2\n",
    "Name: Eric Idle\n",
    "Email: eric@ericidle.com\n",
    "Phone: +44 20 7946 0958\n",
    "\n",
    "Command: add\n",
    "Name: Mike Murach\n",
    "Email: mike@murach.com\n",
    "Phone: 559-123-4567\n",
    "Mike Murach was added.\n",
    "\n",
    "Command: del\n",
    "Number: 1\n",
    "Guido van Rossum was deleted.\n",
    "\n",
    "Command: list\n",
    "1. Eric Idle\n",
    "2. Mike Murach\n",
    "\n",
    "Command: exit\n",
    "Bye!\n",
    "```\n",
    "\n",
    "### Specifications:\n",
    "- Use a list of lists to store the data for the contacts. Provide starting data for two or more contacts.\n",
    "- For the `view` and `del` commands, display an error message if the user enters and invalid contact number.\n",
    "- When you exit the program, all changes that you made to the contact list are lost.\n",
    "\n",
    "\n"
   ]
  },
  {
   "cell_type": "code",
   "execution_count": 27,
   "metadata": {},
   "outputs": [
    {
     "name": "stdout",
     "output_type": "stream",
     "text": [
      "Contact Manager\n",
      "\n",
      "COMMAND MENU\n",
      "\n",
      "list - Display all contacts\n",
      "view - View a contact\n",
      "add - Add a contact\n",
      "del - Delete a contact\n",
      "exit - Exit program\n"
     ]
    },
    {
     "name": "stdin",
     "output_type": "stream",
     "text": [
      "\n",
      "Command: list\n"
     ]
    },
    {
     "name": "stdout",
     "output_type": "stream",
     "text": [
      "\n",
      "1. Guido van Rossum\n",
      "2. Eric Idle\n"
     ]
    },
    {
     "name": "stdin",
     "output_type": "stream",
     "text": [
      "\n",
      "Command: view\n"
     ]
    },
    {
     "name": "stdout",
     "output_type": "stream",
     "text": [
      "\n"
     ]
    },
    {
     "name": "stdin",
     "output_type": "stream",
     "text": [
      "Number: 2\n"
     ]
    },
    {
     "name": "stdout",
     "output_type": "stream",
     "text": [
      "Name: Eric Idle\n",
      "Email: eric@ericidle.com\n",
      "Phone: +44 20 7946 0958\n"
     ]
    },
    {
     "name": "stdin",
     "output_type": "stream",
     "text": [
      "\n",
      "Command: add\n"
     ]
    },
    {
     "name": "stdout",
     "output_type": "stream",
     "text": [
      "\n"
     ]
    },
    {
     "name": "stdin",
     "output_type": "stream",
     "text": [
      "Name: tyler\n",
      "Email: tjs1029@sru.edu\n",
      "Phone: 5789389123\n",
      "\n",
      "Command: view\n"
     ]
    },
    {
     "name": "stdout",
     "output_type": "stream",
     "text": [
      "\n"
     ]
    },
    {
     "name": "stdin",
     "output_type": "stream",
     "text": [
      "Number: 3\n"
     ]
    },
    {
     "name": "stdout",
     "output_type": "stream",
     "text": [
      "Name: tyler\n",
      "Email: tjs1029@sru.edu\n",
      "Phone: 5789389123\n"
     ]
    },
    {
     "name": "stdin",
     "output_type": "stream",
     "text": [
      "\n",
      "Command: list\n"
     ]
    },
    {
     "name": "stdout",
     "output_type": "stream",
     "text": [
      "\n",
      "1. Guido van Rossum\n",
      "2. Eric Idle\n",
      "3. tyler\n"
     ]
    },
    {
     "name": "stdin",
     "output_type": "stream",
     "text": [
      "\n",
      "Command: del\n"
     ]
    },
    {
     "name": "stdout",
     "output_type": "stream",
     "text": [
      "\n"
     ]
    },
    {
     "name": "stdin",
     "output_type": "stream",
     "text": [
      "Number: 1\n",
      "\n",
      "Command: view\n"
     ]
    },
    {
     "name": "stdout",
     "output_type": "stream",
     "text": [
      "\n"
     ]
    },
    {
     "name": "stdin",
     "output_type": "stream",
     "text": [
      "Number: 2\n"
     ]
    },
    {
     "name": "stdout",
     "output_type": "stream",
     "text": [
      "Name: tyler\n",
      "Email: tjs1029@sru.edu\n",
      "Phone: 5789389123\n"
     ]
    },
    {
     "name": "stdin",
     "output_type": "stream",
     "text": [
      "\n",
      "Command: view\n"
     ]
    },
    {
     "name": "stdout",
     "output_type": "stream",
     "text": [
      "\n"
     ]
    },
    {
     "name": "stdin",
     "output_type": "stream",
     "text": [
      "Number: 3\n"
     ]
    },
    {
     "name": "stdout",
     "output_type": "stream",
     "text": [
      "incorect index\n"
     ]
    },
    {
     "name": "stdin",
     "output_type": "stream",
     "text": [
      "Number: 2\n"
     ]
    },
    {
     "name": "stdout",
     "output_type": "stream",
     "text": [
      "Name: tyler\n",
      "Email: tjs1029@sru.edu\n",
      "Phone: 5789389123\n"
     ]
    },
    {
     "name": "stdin",
     "output_type": "stream",
     "text": [
      "\n",
      "Command: list\n"
     ]
    },
    {
     "name": "stdout",
     "output_type": "stream",
     "text": [
      "\n",
      "1. Eric Idle\n",
      "2. tyler\n"
     ]
    },
    {
     "name": "stdin",
     "output_type": "stream",
     "text": [
      "\n",
      "Command: exit\n"
     ]
    },
    {
     "name": "stdout",
     "output_type": "stream",
     "text": [
      "\n",
      "Bye!\n"
     ]
    }
   ],
   "source": [
    "def title():\n",
    "    print(\"Contact Manager\\n\")\n",
    "def list(cL):\n",
    "    count = 1\n",
    "    for i in cL:\n",
    "        print(str(count) + \".\", i[0])\n",
    "        count += 1\n",
    "def view(cL):\n",
    "    while True:\n",
    "        num = int(input(\"Number:\"))\n",
    "        if num <= len(cL) and num > 0:    \n",
    "            print(\"Name:\", cL[num-1][0])\n",
    "            print(\"Email:\", cL[num-1][1])\n",
    "            print(\"Phone:\", cL[num-1][2])\n",
    "            break\n",
    "        else:\n",
    "            print(\"incorect index\")\n",
    "def add(cL):\n",
    "    cL.append([input(\"Name:\"), input(\"Email:\"), input(\"Phone:\")])\n",
    "    return cL\n",
    "def dele(cL):\n",
    "    while True:\n",
    "        num = int(input(\"Number:\"))\n",
    "        if num <= len(cL) and num > 0:    \n",
    "            del cL[num-1]\n",
    "            break\n",
    "        else:\n",
    "            print(\"incorect index\")\n",
    "    return cL\n",
    "def main():\n",
    "    title()\n",
    "    print(\"COMMAND MENU\\n\\n\" + \n",
    "          \"list - Display all contacts\\n\" +\n",
    "          \"view - View a contact\\n\" +\n",
    "          \"add - Add a contact\\n\" +\n",
    "          \"del - Delete a contact\\n\" +\n",
    "          \"exit - Exit program\")\n",
    "    contactList = [[\"Guido van Rossum\", \"n/a\", \"n/a\"], [\"Eric Idle\", \"eric@ericidle.com\", \"+44 20 7946 0958\"]]\n",
    "    while True:\n",
    "        command = input(\"\\nCommand:\")\n",
    "        print()\n",
    "        if command == \"list\":\n",
    "            list(contactList)\n",
    "        elif command == \"view\":\n",
    "            view(contactList)\n",
    "        elif command == \"add\":\n",
    "            contactList = add(contactList)\n",
    "        elif command == \"del\":\n",
    "            contactList = dele(contactList)\n",
    "        elif command == \"exit\":\n",
    "            break\n",
    "    print(\"Bye!\")\n",
    "if __name__ == \"__main__\":\n",
    "    main()"
   ]
  },
  {
   "cell_type": "code",
   "execution_count": null,
   "metadata": {},
   "outputs": [],
   "source": []
  }
 ],
 "metadata": {
  "kernelspec": {
   "display_name": "Python [conda env:base] *",
   "language": "python",
   "name": "conda-base-py"
  },
  "language_info": {
   "codemirror_mode": {
    "name": "ipython",
    "version": 3
   },
   "file_extension": ".py",
   "mimetype": "text/x-python",
   "name": "python",
   "nbconvert_exporter": "python",
   "pygments_lexer": "ipython3",
   "version": "3.12.7"
  }
 },
 "nbformat": 4,
 "nbformat_minor": 4
}
